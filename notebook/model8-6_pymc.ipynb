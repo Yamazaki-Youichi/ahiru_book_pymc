{
 "cells": [
  {
   "cell_type": "code",
   "execution_count": null,
   "metadata": {
    "collapsed": false
   },
   "outputs": [],
   "source": [
    "# -*- coding: utf-8 -*-\n",
    "import pandas as pd\n",
    "import numpy as np\n",
    "import matplotlib.pyplot as plt\n",
    "from pymc3 import Model, Normal, HalfNormal\n",
    "from pymc3 import NUTS, sample\n",
    "from scipy import optimize\n",
    "from pymc3 import traceplot\n",
    "from pymc3 import summary\n",
    "\n",
    "df = pd.read_csv(\"data/data-salary-3.txt\")\n",
    "X_data = df.values[:,0]\n",
    "Y_data = df.values[:,1]\n",
    "company_data  = df.values[:,2]-1\n",
    "cluster_data = df.values[:,3]-1\n",
    "n_company = len(df[\"KID\"].unique())\n",
    "n_cluster = len(df[\"GID\"].unique())\n",
    "\n",
    "basic_model = Model()\n",
    "\n",
    "#model8-5の業界毎の分散を追加\n",
    "with basic_model:\n",
    "    #全体平均\n",
    "    a_0 = Normal('a_0', mu=0, sd=10)\n",
    "    b_0 = Normal('b_0', mu=0, sd=10)\n",
    "    #全体分散\n",
    "    s_ag = HalfNormal('s_ag', sd=10)\n",
    "    s_bg = HalfNormal('s_bg', sd=10)\n",
    "    #業界平均\n",
    "    a_g = Normal('a_g', mu=a_0, sd=s_ag, shape=n_cluster)\n",
    "    b_g = Normal('b_g', mu=b_0, sd=s_bg, shape=n_cluster)\n",
    "    #業界毎の誤差分散\n",
    "    s_a = HalfNormal('sigma_a', sd=10,shape=n_cluster)\n",
    "    s_a = s_a[cluster_data]\n",
    "    s_b = HalfNormal('sigma_b', sd=10,shape=n_cluster)\n",
    "    s_b = s_b[cluster_data]\n",
    "    \n",
    "    #個人の誤差分散\n",
    "    s_Y = HalfNormal('sigma_Y', sd=100)\n",
    "    \n",
    "    #likelihood \n",
    "    #b = Normal('b', mu=b_g[cluster_data], sd=s_b)とするとエラーがでる\n",
    "    a = Normal('a', mu=0, sd=s_a)+a_g[cluster_data]\n",
    "    b = Normal('b', mu=0, sd=s_b)+b_g[cluster_data]\n",
    "    mu = a+ b*X_data\n",
    "    Y_obs = Normal('Y_obs', mu=mu, sd=s_Y, observed=Y_data)\n",
    "    trace = sample(100)\n",
    "    summary(trace)"
   ]
  }
 ],
 "metadata": {
  "anaconda-cloud": {},
  "kernelspec": {
   "display_name": "Python [conda env:pymc]",
   "language": "python",
   "name": "conda-env-pymc-py"
  },
  "language_info": {
   "codemirror_mode": {
    "name": "ipython",
    "version": 3
   },
   "file_extension": ".py",
   "mimetype": "text/x-python",
   "name": "python",
   "nbconvert_exporter": "python",
   "pygments_lexer": "ipython3",
   "version": "3.4.5"
  }
 },
 "nbformat": 4,
 "nbformat_minor": 1
}
