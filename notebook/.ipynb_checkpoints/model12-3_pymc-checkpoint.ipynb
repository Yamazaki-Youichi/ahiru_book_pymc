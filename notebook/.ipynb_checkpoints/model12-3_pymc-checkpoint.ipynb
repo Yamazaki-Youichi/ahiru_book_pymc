{
 "cells": [
  {
   "cell_type": "code",
   "execution_count": null,
   "metadata": {
    "collapsed": false
   },
   "outputs": [
    {
     "name": "stderr",
     "output_type": "stream",
     "text": [
      "Auto-assigning NUTS sampler...\n",
      "Initializing NUTS using advi...\n",
      "Average ELBO = -93.235: 100%|██████████| 200000/200000 [01:27<00:00, 2285.87it/s]\n",
      "Finished [100%]: Average ELBO = -93.04\n",
      "  3%|▎         | 26/1000 [00:56<38:25,  2.37s/it]"
     ]
    }
   ],
   "source": [
    "# -*- coding: utf-8 -*-\n",
    "import pandas as pd\n",
    "import numpy as np\n",
    "import matplotlib.pyplot as plt\n",
    "import pymc3 as pm\n",
    "from pymc3 import Model, Normal, GaussianRandomWalk, HalfNormal\n",
    "from pymc3 import NUTS, sample\n",
    "from scipy import optimize\n",
    "from pymc3 import traceplot\n",
    "from pymc3 import summary\n",
    "import theano.tensor as tt\n",
    "import theano as T\n",
    "\n",
    "df = pd.read_csv(\"../data/data-ss1.txt\")\n",
    "T = df.values[:,0].astype(np.float32)\n",
    "Y = df.values[:,1].astype(np.float32)\n",
    "\n",
    "n_times = len(df[\"X\"].unique())\n",
    "\n",
    "#shape = クラスの数の確率変数に、クラスの値を取るデータ数次元のベクトルを入れる操作がありますが\n",
    "#その詳細な説明は(https://pymc-devs.github.io/pymc3/notebooks/GLM-hierarchical.html)参照\n",
    "\n",
    "basic_model = Model()\n",
    "\n",
    "\n",
    "\n",
    "#GaussianRandomWalkを使わない方法\n",
    "with basic_model:\n",
    "    #事前分布\n",
    "    s_mu = HalfNormal('s_mu', sd=100) #隣接時刻の状態の誤差\n",
    "    s_Y =  HalfNormal('s_Y', sd=100) #各時刻における状態と観測の誤差\n",
    "    mu_0 = Normal('mu_0',mu=0, sd=100) #t=0初期状態\n",
    "    mu_1 = Normal('mu_1',mu=0, sd=100) #t=1初期状態\n",
    "    \n",
    "    #誤差項\n",
    "    e_mu = Normal('e_mu', mu=0, sd=s_mu, shape =n_times-2)\n",
    "    \n",
    "    mu = tt.zeros((n_times))\n",
    "    mu = tt.set_subtensor(mu[0], mu_0)\n",
    "    mu = tt.set_subtensor(mu[1], mu_1)\n",
    "    for i in list(range(n_times-2)):\n",
    "        mu = tt.set_subtensor(mu[i+2], 2*mu[i+1] - mu[i] + e_mu[i])\n",
    "    #likelihood\n",
    "    Y_obs = Normal('Y_obs', mu=mu, sd=s_Y, observed=Y)\n",
    "\n",
    "    #サンプリング\n",
    "    trace = sample(1000)\n",
    "    summary(trace)"
   ]
  }
 ],
 "metadata": {
  "anaconda-cloud": {},
  "kernelspec": {
   "display_name": "Python [conda env:pymc]",
   "language": "python",
   "name": "conda-env-pymc-py"
  },
  "language_info": {
   "codemirror_mode": {
    "name": "ipython",
    "version": 3
   },
   "file_extension": ".py",
   "mimetype": "text/x-python",
   "name": "python",
   "nbconvert_exporter": "python",
   "pygments_lexer": "ipython3",
   "version": "3.4.5"
  }
 },
 "nbformat": 4,
 "nbformat_minor": 1
}
