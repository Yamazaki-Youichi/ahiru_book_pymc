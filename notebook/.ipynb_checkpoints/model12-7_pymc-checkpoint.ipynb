{
 "cells": [
  {
   "cell_type": "code",
   "execution_count": null,
   "metadata": {
    "collapsed": false
   },
   "outputs": [
    {
     "name": "stderr",
     "output_type": "stream",
     "text": [
      "Auto-assigning NUTS sampler...\n",
      "Initializing NUTS using advi...\n"
     ]
    }
   ],
   "source": [
    "# -*- coding: utf-8 -*-\n",
    "import pandas as pd\n",
    "import numpy as np\n",
    "import matplotlib.pyplot as plt\n",
    "import pymc3 as pm\n",
    "from pymc3 import Model, Normal, HalfNormal,Uniform\n",
    "from pymc3 import NUTS, sample\n",
    "from scipy import optimize\n",
    "from pymc3 import traceplot\n",
    "from pymc3 import summary\n",
    "import theano.tensor as tt\n",
    "import theano as T\n",
    "\n",
    "df = pd.read_csv(\"../data/data-changepoint.txt\")\n",
    "T = df.values[:,0].astype(np.float32)\n",
    "Y = df.values[:,1].astype(np.float32)\n",
    "\n",
    "n_times = len(df[\"X\"].unique()) #時間の数\n",
    "basic_model = Model()\n",
    "\n",
    "#subtensorの使い方↓\n",
    "#http://deeplearning.net/software/theano/library/tensor/basic.html\n",
    "\n",
    "with basic_model: \n",
    "    #事前分布\n",
    "    s_mu =  HalfNormal('s_mu', sd=100) #コーシー分布の分散\n",
    "    s_Y =  HalfNormal('s_Y', sd=100) #観測誤差\n",
    "    mu_0 = Normal('mu_0',mu=0, sd=100)  #初期状態\n",
    "    x = Uniform(\"x\" ,lower=-np.pi/2,upper=np.pi/2, shape=n_times-1)\n",
    "    \n",
    "    #Cauchyの誤差process\n",
    "    c = s_mu*tt.tan(x)\n",
    "    \n",
    "    #状態process\n",
    "    mu = tt.zeros((n_times))\n",
    "    mu = tt.set_subtensor(mu[0], mu_0)\n",
    "    for i in list(range(n_times-1)):\n",
    "        mu = tt.set_subtensor(mu[i+1], mu[i]+c[i])\n",
    "    \n",
    "    #likelihood\n",
    "    Y_obs = Normal('Y_obs', mu=mu, sd=s_Y, observed=Y)    \n",
    "    \n",
    "    #サンプリング\n",
    "    trace = sample(1000)\n",
    "    summary(trace)\n"
   ]
  },
  {
   "cell_type": "code",
   "execution_count": null,
   "metadata": {
    "collapsed": false
   },
   "outputs": [],
   "source": [
    "%matplotlib inline    \n",
    "traceplot(trace)"
   ]
  },
  {
   "cell_type": "code",
   "execution_count": null,
   "metadata": {
    "collapsed": false
   },
   "outputs": [],
   "source": [
    "%matplotlib inline\n",
    "plt.plot(df.values[:,1],\"r\")\n",
    "plt.plot(trace[\"season\",500:].T + trace[\"mu\",500:].T , 'b', alpha=.01)\n",
    "plt.xlabel('time')\n",
    "plt.ylabel('Y')"
   ]
  }
 ],
 "metadata": {
  "anaconda-cloud": {},
  "kernelspec": {
   "display_name": "Python [conda env:pymc]",
   "language": "python",
   "name": "conda-env-pymc-py"
  },
  "language_info": {
   "codemirror_mode": {
    "name": "ipython",
    "version": 3
   },
   "file_extension": ".py",
   "mimetype": "text/x-python",
   "name": "python",
   "nbconvert_exporter": "python",
   "pygments_lexer": "ipython3",
   "version": "3.4.5"
  }
 },
 "nbformat": 4,
 "nbformat_minor": 1
}
