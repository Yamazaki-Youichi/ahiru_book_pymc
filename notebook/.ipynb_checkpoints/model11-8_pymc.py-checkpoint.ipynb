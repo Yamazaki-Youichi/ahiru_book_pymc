{
 "cells": [
  {
   "cell_type": "code",
   "execution_count": 1,
   "metadata": {
    "collapsed": false
   },
   "outputs": [
    {
     "name": "stdout",
     "output_type": "stream",
     "text": [
      "person_to_item __str__ = [[ 0.00833333  0.00833333  0.00833333 ...,  0.00833333  0.00833333\n",
      "   0.00833333]\n",
      " [ 0.00833333  0.00833333  0.00833333 ...,  0.00833333  0.00833333\n",
      "   0.00833333]\n",
      " [ 0.00833333  0.00833333  0.00833333 ...,  0.00833333  0.00833333\n",
      "   0.00833333]\n",
      " ..., \n",
      " [ 0.00833333  0.00833333  0.00833333 ...,  0.00833333  0.00833333\n",
      "   0.00833333]\n",
      " [ 0.00833333  0.00833333  0.00833333 ...,  0.00833333  0.00833333\n",
      "   0.00833333]\n",
      " [ 0.00833333  0.00833333  0.00833333 ...,  0.00833333  0.00833333\n",
      "   0.00833333]]\n",
      "person_to_item __str__ = [1117]\n"
     ]
    },
    {
     "ename": "NameError",
     "evalue": "name 'CategoricalGibbsMetropolis' is not defined",
     "output_type": "error",
     "traceback": [
      "\u001b[0;31m---------------------------------------------------------------------------\u001b[0m",
      "\u001b[0;31mNameError\u001b[0m                                 Traceback (most recent call last)",
      "\u001b[0;32m<ipython-input-1-0f4f17c74198>\u001b[0m in \u001b[0;36m<module>\u001b[0;34m()\u001b[0m\n\u001b[1;32m     41\u001b[0m \u001b[0;34m\u001b[0m\u001b[0m\n\u001b[1;32m     42\u001b[0m     \u001b[0;31m#サンプリング\u001b[0m\u001b[0;34m\u001b[0m\u001b[0;34m\u001b[0m\u001b[0m\n\u001b[0;32m---> 43\u001b[0;31m     \u001b[0mtrace\u001b[0m \u001b[0;34m=\u001b[0m \u001b[0mCategoricalGibbsMetropolis\u001b[0m\u001b[0;34m(\u001b[0m\u001b[0;36m1000\u001b[0m\u001b[0;34m)\u001b[0m\u001b[0;34m\u001b[0m\u001b[0m\n\u001b[0m\u001b[1;32m     44\u001b[0m     \u001b[0msummary\u001b[0m\u001b[0;34m(\u001b[0m\u001b[0mtrace\u001b[0m\u001b[0;34m)\u001b[0m\u001b[0;34m\u001b[0m\u001b[0m\n",
      "\u001b[0;31mNameError\u001b[0m: name 'CategoricalGibbsMetropolis' is not defined"
     ]
    }
   ],
   "source": [
    "# -*- coding: utf-8 -*-\n",
    "import pandas as pd\n",
    "import numpy as np\n",
    "import matplotlib.pyplot as plt\n",
    "from pymc3 import Model,Lognormal,Constant,Dirichlet,Categorical\n",
    "from pymc3 import NUTS, sample\n",
    "from scipy import optimize\n",
    "from pymc3 import traceplot\n",
    "from pymc3 import summary\n",
    "import theano.tensor as tt\n",
    "import theano as T\n",
    "\n",
    "df = pd.read_csv(\"../data/data-lda.txt\")\n",
    "\n",
    "n_person = len(df[\"PersonID\"].unique())\n",
    "n_item =120\n",
    "K = 6\n",
    "IDs = df.values[:,0].astype(np.int32)-1\n",
    "Items = df.values[:,1].astype(np.int32)-1\n",
    "\n",
    "#shape = クラスの数の確率変数に、クラスの値を取るデータ数次元のベクトルを入れる操作がありますが\n",
    "#その詳細な説明は(https://pymc-devs.github.io/pymc3/notebooks/GLM-hierarchical.html)参照\n",
    "\n",
    "basic_model = Model()\n",
    "with basic_model:\n",
    "    #事前分布[50,6]\n",
    "    theta = Dirichlet('p_theta', a=(1.0/K)*np.ones(K),shape=(n_person,K))\n",
    "    #事前分布[6,112]\n",
    "    phi = Dirichlet('p_phi', a=(1.0/n_item)*np.ones(n_item), shape=(K,n_item))\n",
    "    \n",
    "    #likelihood\n",
    "    #データ数 x 各データのカテゴリー確率ベクトル [1117,6]\n",
    "    theta = theta[IDs,:] \n",
    "    #データ数 x 各IDに対するアイテム確率ベクトル [1117,112]\n",
    "    person_to_item = tt.dot(theta, phi)\n",
    "    person_to_item_print = T.printing.Print('person_to_item')(person_to_item)\n",
    "    \n",
    "    H = Categorical(\"tes\", p=person_to_item, shape=(1117), observed=Items)\n",
    "    person_to_item = T.printing.Print('person_to_item')(H.shape)\n",
    "\n",
    "\n",
    "    #サンプリング\n",
    "    trace = CategoricalGibbsMetropolis(1000)\n",
    "    summary(trace)"
   ]
  },
  {
   "cell_type": "code",
   "execution_count": null,
   "metadata": {
    "collapsed": false
   },
   "outputs": [],
   "source": [
    "print(n_item)"
   ]
  },
  {
   "cell_type": "code",
   "execution_count": null,
   "metadata": {
    "collapsed": false
   },
   "outputs": [],
   "source": [
    "df[\"ItemID\"].unique()"
   ]
  },
  {
   "cell_type": "code",
   "execution_count": null,
   "metadata": {
    "collapsed": true
   },
   "outputs": [],
   "source": []
  }
 ],
 "metadata": {
  "anaconda-cloud": {},
  "kernelspec": {
   "display_name": "Python [conda env:pymc]",
   "language": "python",
   "name": "conda-env-pymc-py"
  },
  "language_info": {
   "codemirror_mode": {
    "name": "ipython",
    "version": 3
   },
   "file_extension": ".py",
   "mimetype": "text/x-python",
   "name": "python",
   "nbconvert_exporter": "python",
   "pygments_lexer": "ipython3",
   "version": "3.4.5"
  }
 },
 "nbformat": 4,
 "nbformat_minor": 1
}
